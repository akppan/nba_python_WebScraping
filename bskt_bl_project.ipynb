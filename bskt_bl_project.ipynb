{
 "cells": [
  {
   "cell_type": "code",
   "execution_count": 1,
   "metadata": {},
   "outputs": [],
   "source": [
    "import requests\n",
    "from bs4 import BeautifulSoup"
   ]
  },
  {
   "cell_type": "code",
   "execution_count": 24,
   "metadata": {},
   "outputs": [],
   "source": [
    "def getDetails(first,last):\n",
    "    first = first.lower()\n",
    "    last = last.lower()\n",
    "    url = 'http://www.nba.com/players/' + first + '/' + last\n",
    "    res = requests.get(url)\n",
    "    soup = BeautifulSoup(res.text,'lxml')\n",
    "    hnw = soup.select('#player-tabs-Info section section section section')\n",
    "    det = soup.select('#player-tabs-Info section section section ul li')\n",
    "    for i in range(5):\n",
    "        det[i] = det[i].getText().split(\"\\n\")\n",
    "    det[5] = det[5].getText().split(\"PREVIOUSLY\")\n",
    "    for i in range(5):\n",
    "        det[i].pop()\n",
    "    for i in range(5):\n",
    "        det[i][1] = det[i][1].lstrip()\n",
    "    for i in range(2):\n",
    "        hnw[i] = hnw[i].getText().split(\"\\n\")\n",
    "        hnw[i].pop(0)\n",
    "    hnwf = []\n",
    "    hnwf.append(hnw[0])\n",
    "    hnwf.append(hnw[1])\n",
    "    for i in range(2):\n",
    "        hnwf[i][0] = hnwf[i][0].lstrip()\n",
    "        hnwf[i][1] = hnwf[i][1].lstrip()\n",
    "        hnwf[i][2] = hnwf[i][2].lstrip()\n",
    "    details = {}\n",
    "    name = first.capitalize() + ' ' + last.capitalize()\n",
    "    details[name] = {hnwf[0][0]:hnwf[0][1]+hnwf[0][2],hnwf[1][0]:hnwf[1][1]+hnwf[1][2],det[0][0]:det[0][1],det[1][0]:det[1][1],det[2][0]:det[2][1],det[3][0]:det[3][1],det[4][0]:det[4][1],'PREVIOUSLY':det[5][1]}\n",
    "    print(details[name])\n",
    "    lisk = []\n",
    "    lisv = []\n",
    "    for key in details[name].keys():\n",
    "        lisk.append(key)\n",
    "    for value in details[name].values():\n",
    "        lisv.append(value)\n",
    "    sp = ''\n",
    "    for i in range(8):\n",
    "        sp = sp + lisk[i] + '====>>'\n",
    "        sp = sp + lisv[i] + '\\n'\n",
    "    i = c0.create_text(250,50,text=sp,font=(\"Arial\",20))"
   ]
  },
  {
   "cell_type": "code",
   "execution_count": null,
   "metadata": {},
   "outputs": [],
   "source": []
  },
  {
   "cell_type": "code",
   "execution_count": 19,
   "metadata": {},
   "outputs": [
    {
     "name": "stdout",
     "output_type": "stream",
     "text": [
      "Give the name of player\n",
      "Enter the  first name : Jake\n",
      "Enter the  last name : Layman\n",
      "{'HEIGHT': '6 ft9 in/ 2.06m', 'WEIGHT': '210 lbs/ 95.3kg', 'BORN': '03/07/1994', 'AGE': '24 years', 'FROM': 'Maryland', 'NBA DEBUT': '2016', 'YEARS IN NBA': '2', 'PREVIOUSLY': 'POR 2016-18'}\n",
      "HEIGHT====>>6 ft9 in/ 2.06m\n",
      "WEIGHT====>>210 lbs/ 95.3kg\n",
      "BORN====>>03/07/1994\n",
      "AGE====>>24 years\n",
      "FROM====>>Maryland\n",
      "NBA DEBUT====>>2016\n",
      "YEARS IN NBA====>>2\n",
      "PREVIOUSLY====>>POR 2016-18\n",
      "\n"
     ]
    }
   ],
   "source": [
    "print(\"Give the name of player\")\n",
    "first = input('Enter the  first name : ')\n",
    "last  =  input('Enter the  last name : ')\n",
    "getDetails(first,last)"
   ]
  },
  {
   "cell_type": "code",
   "execution_count": 12,
   "metadata": {},
   "outputs": [],
   "source": [
    "import tkinter"
   ]
  },
  {
   "cell_type": "code",
   "execution_count": 13,
   "metadata": {},
   "outputs": [],
   "source": [
    "from tkinter import *"
   ]
  },
  {
   "cell_type": "code",
   "execution_count": 25,
   "metadata": {},
   "outputs": [],
   "source": [
    "root = Tk()\n",
    "root.geometry(\"500x800+450+0\")\n",
    "global i\n",
    "\n",
    "def details():\n",
    "    first = entry1.get()\n",
    "    last = entry2.get()\n",
    "    getDetails(first,last)\n",
    "\n",
    "c3=Canvas(root,width=500,height=100,bg=\"yellow\")\n",
    "c3.pack()\n",
    "textw = \"Please give correct names\\n    of basket ball players\"\n",
    "c3.create_text(250,50,text=textw,font=(\"Arial\",20))\n",
    "label1 = Label(root,text = 'Enter First Name')\n",
    "label1.place(x=100,y=250)\n",
    "entry1 = Entry(root,width = 100)\n",
    "entry1.place(x=100,y=300)\n",
    "label2 = Label(root,text = 'Enter Last Name')\n",
    "label2.place(x=300,y=250)\n",
    "entry2 = Entry(root,width = 100)\n",
    "entry2.place(x=300,y=300)\n",
    "submit = Button(root,text = 'DETAILS', command = details)\n",
    "submit.place(x=290,y=350)\n",
    "c0=Canvas(root,width=500,height=400,bg=\"yellow\")\n",
    "c0.pack()\n",
    "textw = \"\"\n",
    "i = c0.create_text(250,50,text=textw,font=(\"Arial\",20))"
   ]
  },
  {
   "cell_type": "code",
   "execution_count": null,
   "metadata": {},
   "outputs": [],
   "source": []
  }
 ],
 "metadata": {
  "kernelspec": {
   "display_name": "Python 3",
   "language": "python",
   "name": "python3"
  },
  "language_info": {
   "codemirror_mode": {
    "name": "ipython",
    "version": 3
   },
   "file_extension": ".py",
   "mimetype": "text/x-python",
   "name": "python",
   "nbconvert_exporter": "python",
   "pygments_lexer": "ipython3",
   "version": "3.6.5"
  }
 },
 "nbformat": 4,
 "nbformat_minor": 2
}
